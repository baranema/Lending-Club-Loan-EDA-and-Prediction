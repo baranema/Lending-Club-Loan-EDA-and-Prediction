{
 "cells": [
  {
   "cell_type": "markdown",
   "id": "29e3b40c-0088-427d-8526-615286b74e21",
   "metadata": {},
   "source": [
    "# Module 3: Machine Learning"
   ]
  },
  {
   "cell_type": "markdown",
   "id": "de4e2c1c-72f6-4fa0-9fc2-c5e74f586a60",
   "metadata": {},
   "source": [
    "## Sprint 3: Unsupervised Learning & Hyperparameter Tuning"
   ]
  },
  {
   "cell_type": "markdown",
   "id": "8364176a-e1b3-479e-a403-5607c0ceccd1",
   "metadata": {},
   "source": [
    "## Part 5: LendingClub"
   ]
  },
  {
   "cell_type": "markdown",
   "id": "71ed21ee-9acc-4b75-ad85-50b2b9f40e57",
   "metadata": {},
   "source": [
    "## About this Part\n",
    "\n",
    "Congrats!\n",
    "You have reached the last Part of this Sprint.\n",
    "In this Part, you will put what you learned during this and the previous Sprints into practice.\n",
    "As the final assignment of this Sprint, you solve a lending automation problem for LendingClub.\n",
    "You will have to apply all you have learned about training and deploying machine learning models to complete this task.\n",
    "Our expectation is that you'll use your own judgment on how to perform the analysis and select the most important avenues of modeling, statistical testing, and exploration.\n",
    "You'll have to iteratively try to find patterns in the data, raise hypotheses and use your data analysis skills to get answers.\n",
    "\n",
    "P.S. we don't expect this project to be perfect - you will continue to improve your skills and there will be many projects for you to apply your newly gained skills in the future.\n",
    "For now just use what you have learned and try your best!\n",
    "\n",
    "## Context\n",
    "\n",
    "Imagine that you are a data scientist who was just hired by the LendingClub.\n",
    "They want to automate their lending decisions fully, and they hired you to lead this project.\n",
    "Your team consists of a product manager to help you understand the business domain and a software engineer who will help you integrate your solution into their product.\n",
    "During the initial investigations, you've found that there was a similar initiative in the past, and luckily for you, they have left a somewhat clean dataset of LendingClub's loan data.\n",
    "The dataset is located in a public bucket here: <https://storage.googleapis.com/335-lending-club/lending-club.zip> (although you were wondering if having your client data in a public bucket is such a good idea).\n",
    "In the first meeting with your team, you all have decided to use this dataset because it will allow you to skip months of work of building a dataset from scratch.\n",
    "In addition, you have decided to tackle this problem iteratively so that you can get test your hypothesis that you can automate these decisions and get actual feedback from the users as soon as possible.\n",
    "For that, you have proposed a three-step plan on how to approach this problem.\n",
    "The first step of your plan is to create a machine learning model to classify loans into accepted/rejected so that you can start learning if you have enough data to solve this simple problem adequately.\n",
    "The second step is to predict the grade for the loan, and the third step is to predict the subgrade and the interest rate.\n",
    "Your team likes the plan, especially because after every step, you'll have a fully-working deployed model that your company can use.\n",
    "Excitedly you get to work!\n",
    "\n",
    "## Objectives for this Part\n",
    "\n",
    "- Practice downloading datasets from external sources.\n",
    "- Practice performing EDA.\n",
    "- Practice applying statistical inference procedures.\n",
    "- Practice using various types of machine learning models.\n",
    "- Practice building ensembles of machine learning models.\n",
    "- Practice using hyperparameter tuning.\n",
    "- Practice using AutoML tools.\n",
    "- Practice deploying machine learning models.\n",
    "- Practice visualizing data with Matplotlib & Seaborn.\n",
    "- Practice reading data, performing queries, and filtering data.\n",
    "\n",
    "## Requirements\n",
    "\n",
    "- Download the data from [here](https://storage.googleapis.com/335-lending-club/lending-club.zip).\n",
    "- Perform exploratory data analysis. This should include creating statistical summaries and charts, testing for anomalies, checking for correlations and other relations between variables, and other EDA elements.\n",
    "- Perform statistical inference. This should include defining the target population, forming multiple statistical hypotheses and constructing confidence intervals, setting the significance levels, conducting z or t-tests for these hypotheses.\n",
    "- Apply various machine learning models to predict the target variables based on your proposed plan. You should use hyperparameter tuning, model ensembling, the analysis of model selection, and other methods. The decision where to use and not to use these techniques is up to you, however, they should be aligned with your team's objectives.\n",
    "- Deploy these machine learning models to Google Cloud Platform. You are free to choose any deployment option you wish as long as it can be called an HTTP request.\n",
    "- Provide clear explanations in your notebook. Your explanations should inform the reader what you are trying to achieve, what results you got, and what these results mean.\n",
    "- Provide suggestions about how your analysis and models can be improved.\n",
    "\n",
    "## Evaluation Criteria\n",
    "\n",
    "- Adherence to the requirements. How well did you meet the requirements?\n",
    "- Depth of your analysis. Did you just skim the surface, or did you explored the dataset in-depth?\n",
    "- Model's performance. How well did your model perform the predictions?\n",
    "- Model's deployment. How performant, robust, and scalable your model deployment is?\n",
    "- Visualization quality. Did you use charts effectively to visualize patterns in the data? Are your visualizations properly labeled? Did you use colors effectively? Did you adhere to the principle of proportional ink?\n",
    "- Code quality. Was your code well-structured? Did you use the appropriate levels of abstraction? Did you remove commented-out and unused code? Did you adhere to the PEP8?\n",
    "- Code performance. Did you use suitable algorithms and data structures to solve the problems?\n",
    "\n",
    "## Correction\n",
    "\n",
    "During your project correction, you should present your project as if talking to a product manager and senior data analyst working in your team.\n",
    "You will have to find the right balance between explaining the business side and the technical aspects of your work.\n",
    "You can assume that both of your colleagues have a strong understanding of and are very interested in the business aspect of your project, so be sure to clearly explain what new insights you've found while analyzing the dataset and which directions look the most promising for further research. \n",
    "However, you should also spend time explaining the technical aspects of your work, especially the more complex or unconventional choices.\n",
    "\n",
    "During a correction, you may get asked questions that test your understanding of covered topics.\n",
    "\n",
    "- What dimensionality reduction algorithms do you know? What are their differences?\n",
    "- What is the curse of dimensionality?\n",
    "- What is the difference between DBSCAN and HDBSCAN?\n",
    "- What hyperparameter tuning strategies do you know? What are their advantages compared to Grid Search and Random Search?\n",
    "- Explain how SMOTE algorithm works? In which circumstances is this algorithm the most useful and in which it falls short?\n",
    "- What is AutoML? Why is it important?\n"
   ]
  },
  {
   "cell_type": "markdown",
   "id": "7fcf1951-ca48-49f6-bbcd-bbda0c4147df",
   "metadata": {},
   "source": [
    "## General Correction Guidelines\n",
    "\n",
    "For an in-depth explanation about how corrections work at Turing College, please read [this doc](https://turingcollege.atlassian.net/wiki/spaces/DLG/pages/537395951/Peer+expert+reviews+corrections).\n"
   ]
  },
  {
   "cell_type": "markdown",
   "id": "e0086642",
   "metadata": {},
   "source": [
    "## Since the project contains of several steps, I decided to add check into separate notebook files. You can find those in folder called \"project notebooks (step1, step2, step2 and step4)\"\n",
    "\n",
    "* Step1_LoanAcceptance_Prediction.ipynb contains EDA and model creation for step 1 of the project - loan acceptance prediction (ACCEPTED/REJECTED)\n",
    "* Step2_3-Grade_SubGrade.ipynb contains EDA and creation of models for step 2 and step 3 - grade and subgrade classification.\n",
    "* Step4-Int_Rate.ipynb file contains step 4, where model to predict loan interest rate was created.\n",
    "\n",
    "### You can go here to find the project files: [project notebooks (step1, step2, step2 and step4)](https://github.com/TuringCollegeSubmissions/ebaran-ML1.3/tree/master/project%20notebooks%20(step1%2C%20step2%2C%20step2%20and%20step4))."
   ]
  }
 ],
 "metadata": {
  "kernelspec": {
   "display_name": "Python 3.11.2 64-bit",
   "language": "python",
   "name": "python3"
  },
  "language_info": {
   "codemirror_mode": {
    "name": "ipython",
    "version": 3
   },
   "file_extension": ".py",
   "mimetype": "text/x-python",
   "name": "python",
   "nbconvert_exporter": "python",
   "pygments_lexer": "ipython3",
   "version": "3.11.2"
  },
  "vscode": {
   "interpreter": {
    "hash": "b0fa6594d8f4cbf19f97940f81e996739fb7646882a419484c72d19e05852a7e"
   }
  }
 },
 "nbformat": 4,
 "nbformat_minor": 5
}
